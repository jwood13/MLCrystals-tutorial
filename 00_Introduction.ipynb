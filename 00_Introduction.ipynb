{
 "cells": [
  {
   "cell_type": "code",
   "execution_count": 4,
   "metadata": {},
   "outputs": [
    {
     "data": {
      "text/markdown": [
       "Machine Learning with Molecular Crystals\n",
       "========================================\n",
       "\n",
       "This is a set of notebooks that detail how\n",
       "machine learning can be used in the detection of 2D molecular crystals.\n",
       "This work stems from research I am conducting as part of my PhD,\n",
       "studying the crystal formation of these molecules.\n",
       "\n",
       "\n",
       "### Environment Setup\n",
       "\n",
       "These notebooks require a fairly extensive set of dependencies\n",
       "which can be installed with the command\n",
       "\n",
       "    conda env update\n",
       "\n",
       "which will create the conda environment `MLCrystals` containing\n",
       "all the required packages.\n",
       "\n",
       "Installation without conda is probably not possible,\n",
       "it can be downloaded from [here][download conda].\n",
       "It is also highly likely to be impossible to install on Windows.\n",
       "\n",
       "### Running the Notebooks\n",
       "\n",
       "To run the notebook you need to be in the `MLCrystals` environment\n",
       "\n",
       "    source activate MLCrystals\n",
       "\n",
       "from which you can launch the jupyter server\n",
       "\n",
       "    jupyter notebook\n",
       "\n",
       "which will open up jupyter in your default web browser.\n",
       "\n",
       "\n",
       "[download conda]: [https://conda.io/miniconda.html]\n"
      ],
      "text/plain": [
       "<IPython.core.display.Markdown object>"
      ]
     },
     "metadata": {},
     "output_type": "display_data"
    }
   ],
   "source": [
    "from IPython.display import display, Markdown\n",
    "\n",
    "with open('readme.md', 'r') as fh:\n",
    "    content = fh.read()\n",
    "\n",
    "display(Markdown(content))"
   ]
  },
  {
   "cell_type": "code",
   "execution_count": null,
   "metadata": {},
   "outputs": [],
   "source": []
  }
 ],
 "metadata": {
  "kernelspec": {
   "display_name": "Python 3",
   "language": "python",
   "name": "python3"
  },
  "language_info": {
   "codemirror_mode": {
    "name": "ipython",
    "version": 3
   },
   "file_extension": ".py",
   "mimetype": "text/x-python",
   "name": "python",
   "nbconvert_exporter": "python",
   "pygments_lexer": "ipython3",
   "version": "3.6.1"
  }
 },
 "nbformat": 4,
 "nbformat_minor": 2
}
